{
  "nbformat": 4,
  "nbformat_minor": 0,
  "metadata": {
    "colab": {
      "provenance": [],
      "authorship_tag": "ABX9TyNW84HGNcqJxHCHNKNC7Jc0",
      "include_colab_link": true
    },
    "kernelspec": {
      "name": "python3",
      "display_name": "Python 3"
    },
    "language_info": {
      "name": "python"
    }
  },
  "cells": [
    {
      "cell_type": "markdown",
      "metadata": {
        "id": "view-in-github",
        "colab_type": "text"
      },
      "source": [
        "<a href=\"https://colab.research.google.com/github/richelleshim/quantum-computing/blob/main/cs_238_homework_2_simon_classical.ipynb\" target=\"_parent\"><img src=\"https://colab.research.google.com/assets/colab-badge.svg\" alt=\"Open In Colab\"/></a>"
      ]
    },
    {
      "cell_type": "code",
      "execution_count": 8,
      "metadata": {
        "id": "ZbUSIVr0W0uN",
        "colab": {
          "base_uri": "https://localhost:8080/",
          "height": 89
        },
        "outputId": "4fa22ceb-b009-4100-c858-e77684c1f508"
      },
      "outputs": [
        {
          "output_type": "stream",
          "name": "stdout",
          "text": [
            "Hidden string for blackbox function 1: 11\n",
            "Hidden string for blackbox function 2: 11\n"
          ]
        },
        {
          "output_type": "execute_result",
          "data": {
            "text/plain": [
              "'\\nMy solution to the problem works with n = 2, so for coding reasons,\\nit made sense to go through all the inputs. However, if this is to be scaled,\\nrealistically, the worst case scenario would be that the computer/algorithm would \\nneed to check (2^n / 2) + 1 inputs to find a collision.\\n'"
            ],
            "application/vnd.google.colaboratory.intrinsic+json": {
              "type": "string"
            }
          },
          "metadata": {},
          "execution_count": 8
        }
      ],
      "source": [
        "n = 2\n",
        "\n",
        "#TA during office hours said that it is ok if our function only works with n = 2\n",
        "#These are 2 blackbox functions\n",
        "\n",
        "def blackbox_function(x):\n",
        "    inputs = {\"00\" : \"00\", \"01\": \"01\", \"10\":\"01\", \"11\" : \"00\"}\n",
        "    return inputs[x]\n",
        "\n",
        "def blackbox_function_2(x):\n",
        "    inputs = {\"00\": \"10\", \"01\": \"11\", \"10\": \"11\", \"11\": \"10\"}\n",
        "    return inputs[x]\n",
        "\n",
        "def simons(f, n):\n",
        "    dictMap = {}\n",
        "    inputs = [\"00\", \"01\", \"10\", \"11\"]\n",
        "    for x in inputs:\n",
        "        output = f(x)\n",
        "        #when collision is found:\n",
        "        if output in dictMap:\n",
        "            y = dictMap[output]\n",
        "            s = \"\"\n",
        "            for i in range(len(x)):\n",
        "              #pretty much XOR logic\n",
        "                if x[i] == y[i]:\n",
        "                    s += \"0\"\n",
        "                else:\n",
        "                    s += \"1\"\n",
        "\n",
        "            return s\n",
        "        else:\n",
        "            dictMap[output] = x\n",
        "    #if no collision is found\n",
        "    return \"00\"\n",
        "\n",
        "# with n = 2:\n",
        "s1 = simons(blackbox_function, n)\n",
        "s2 = simons(blackbox_function_2, n)\n",
        "\n",
        "#should output 11\n",
        "print(f\"Hidden string for blackbox function 1: {s1}\")\n",
        "\n",
        "#should output 11\n",
        "print(f\"Hidden string for blackbox function 2: {s2}\")\n",
        "\n",
        "\"\"\"\n",
        "My solution to the problem works with n = 2, so for coding reasons,\n",
        "it made sense to go through all the inputs. However, if this is to be scaled,\n",
        "realistically, the worst case scenario would be that the computer/algorithm would\n",
        "need to check (2^n / 2) + 1 inputs to find a collision.\n",
        "\"\"\"\n"
      ]
    },
    {
      "cell_type": "code",
      "source": [],
      "metadata": {
        "id": "29uQKbSRYwoP"
      },
      "execution_count": 7,
      "outputs": []
    }
  ]
}