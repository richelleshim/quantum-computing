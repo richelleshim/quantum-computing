{
  "nbformat": 4,
  "nbformat_minor": 0,
  "metadata": {
    "colab": {
      "provenance": [],
      "authorship_tag": "ABX9TyNgRmS8NagkK4qYcCic9bNG"
    },
    "kernelspec": {
      "name": "python3",
      "display_name": "Python 3"
    },
    "language_info": {
      "name": "python"
    }
  },
  "cells": [
    {
      "cell_type": "code",
      "source": [
        "import random\n",
        "\n",
        "n = 10\n",
        "\n",
        "targetValue =  ''.join(random.choice('01') for _ in range(n))\n",
        "\n",
        "def blackbox_function(x, target):\n",
        "    return 1 if x == target else 0\n",
        "\n",
        "def grover(f, n):\n",
        "    for i in range(2 ** n):\n",
        "        x = format(i, f'0{n}b')\n",
        "        if f(x, targetValue) == 1:\n",
        "            return 1\n",
        "    return 0\n",
        "\n",
        "\n",
        "result = grover(blackbox_function, n)\n",
        "#Test Cases\n",
        "\n",
        "#for this one: n = 10, and targetvalue gets generated randomly. If you run the\n",
        "#code multiple times, it'll print the target value and the result\n",
        "\n",
        "print(f\"Target Bit String: {targetValue}\")\n",
        "print(\"Result:\", result)\n",
        "\n",
        "\n",
        "#as more of a concrete test case, I set the targetValue to 0010\n",
        "#and then called grover\n",
        "\n",
        "targetValue = \"0010\"\n",
        "n = 4\n",
        "result = grover(blackbox_function, n)\n",
        "print(f\"Target Bit String: {targetValue}\")\n",
        "print(\"Result:\", result)\n",
        "\n",
        "\"\"\"\n",
        "This is inefficient, because in the worst case scenario, the computer/function\n",
        "would need to check all 2^n inputs, because it needs to go through all possible\n",
        "combinations of 0 and 1 for n-length.\n",
        "\"\"\"\n"
      ],
      "metadata": {
        "id": "29uQKbSRYwoP",
        "colab": {
          "base_uri": "https://localhost:8080/",
          "height": 125
        },
        "outputId": "2774ef09-1555-4045-bd96-709f909e4f2b"
      },
      "execution_count": 1,
      "outputs": [
        {
          "output_type": "stream",
          "name": "stdout",
          "text": [
            "Target Bit String: 1011011100\n",
            "Result: 1\n",
            "Target Bit String: 0010\n",
            "Result: 1\n"
          ]
        },
        {
          "output_type": "execute_result",
          "data": {
            "text/plain": [
              "'\\nThis is inefficient, because in the worst case scenario, the computer/function\\nwould need to check all 2^n inputs, because it needs to go through all possible\\ncombinations of 0 and 1 for n-length.\\n'"
            ],
            "application/vnd.google.colaboratory.intrinsic+json": {
              "type": "string"
            }
          },
          "metadata": {},
          "execution_count": 1
        }
      ]
    }
  ]
}